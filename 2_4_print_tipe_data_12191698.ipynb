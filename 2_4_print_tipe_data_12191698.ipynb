{
  "nbformat": 4,
  "nbformat_minor": 0,
  "metadata": {
    "colab": {
      "name": "2_4_print_tipe_data_12191698.ipynb",
      "provenance": [],
      "collapsed_sections": [],
      "include_colab_link": true
    },
    "kernelspec": {
      "name": "python3",
      "display_name": "Python 3"
    }
  },
  "cells": [
    {
      "cell_type": "markdown",
      "metadata": {
        "id": "view-in-github",
        "colab_type": "text"
      },
      "source": [
        "<a href=\"https://colab.research.google.com/github/khoirudhien86/pbo/blob/main/2_4_print_tipe_data_12191698.ipynb\" target=\"_parent\"><img src=\"https://colab.research.google.com/assets/colab-badge.svg\" alt=\"Open In Colab\"/></a>"
      ]
    },
    {
      "cell_type": "code",
      "metadata": {
        "id": "4dfSpquWCSJc"
      },
      "source": [
        ""
      ],
      "execution_count": null,
      "outputs": []
    },
    {
      "cell_type": "markdown",
      "metadata": {
        "id": "45cjtVtg8pTP"
      },
      "source": [
        "##Mencetak Tipe Data\n",
        "**Praktik 2.4.1**\n",
        "Cobalah mengetik kode di bawah ini :\n",
        "``` javascript\n",
        "#tipe data Boolean\n",
        "print(True)\n",
        "\n",
        "\n",
        "#tipe data String\n",
        "print(\"Mari belajar Python\")\n",
        "print('Belajar Python Sangat Dengan Mudah')\n",
        "\n",
        "\n",
        "#tipe data Integer\n",
        "print(20)\n",
        "\n",
        "\n",
        "#tipe data Float\n",
        "print(3.14)\n",
        "\n",
        "\n",
        "#tipe data List\n",
        "print([1,2,3,4,5])\n",
        "print([\"satu\", \"dua\", \"tiga\"])\n",
        "\n",
        "\n",
        "#tipe data Tuple\n",
        "print((1,2,3,4,5))\n",
        "print((\"satu\", \"dua\", \"tiga\"))\n",
        "\n",
        "\n",
        "#tipe data Dictionary\n",
        "print({\"nama\":\"Budi\", 'umur':20})\n",
        "\n",
        "#tipe data Dictionary dimasukan ke dalam variabel biodata\n",
        "biodata = {\"nama\":\"Andi\", 'umur':21} #proses inisialisasi variabel biodata\n",
        "print(biodata) #proses pencetakan variabel biodata yang berisi tipe data Dictionary\n",
        "type(biodata) #fungsi untuk mengecek jenis tipe data. akan tampil <class 'dict'>\n",
        "``` "
      ]
    },
    {
      "cell_type": "code",
      "metadata": {
        "id": "ujERTDu_9Udi",
        "outputId": "893828b6-6b82-44c5-98b6-5f43dcea942f",
        "colab": {
          "base_uri": "https://localhost:8080/"
        }
      },
      "source": [
        "#Jawab Praktik 2.4.1\n",
        "\n",
        "#tipe data boolean\n",
        "print(True)\n",
        "\n",
        "#tipe data string\n",
        "print(\"mari belajar python\")\n",
        "print('belajar python sangat dengan mudah bro')\n",
        "\n",
        "#tipe data integer\n",
        "print(100)\n",
        "\n",
        "#tipe data float\n",
        "print(3.14)\n",
        "\n",
        "#tipe data list\n",
        "print([1,2,3,4,5])\n",
        "print([\"satu\",\"dua\",\"tiga\",\"empat\",\"lima\"])\n",
        "\n",
        "#tipe data tuple\n",
        "print((1,2,3,4))\n",
        "print((\"satu\",\"dua\",\"tiga\",\"empat\"))\n",
        "\n",
        "#tipe data dictionary\n",
        "print({\"nama\":\"udin\", 'umur':24})\n",
        "\n",
        "#tipe data dictionary dimasukkan ke dalam variable biodata\n",
        "biodata = {\"nama\": \"khoirudin\", 'umur': 25} #proses inisialisasi variable biodata\n",
        "print(biodata) #proses pencetakan variable biodata yang berisi tipe data dictionary\n",
        "print(type(biodata)) #fungsi untuk mencetak jenis tipe data. akan tampil <class 'dict'>"
      ],
      "execution_count": 4,
      "outputs": [
        {
          "output_type": "stream",
          "text": [
            "True\n",
            "mari belajar python\n",
            "belajar python sangat dengan mudah bro\n",
            "100\n",
            "3.14\n",
            "[1, 2, 3, 4, 5]\n",
            "['satu', 'dua', 'tiga', 'empat', 'lima']\n",
            "(1, 2, 3, 4)\n",
            "('satu', 'dua', 'tiga', 'empat')\n",
            "{'nama': 'udin', 'umur': 24}\n",
            "{'nama': 'khoirudin', 'umur': 25}\n",
            "<class 'dict'>\n"
          ],
          "name": "stdout"
        }
      ]
    },
    {
      "cell_type": "markdown",
      "metadata": {
        "id": "Nu-cCxbQ9U8i"
      },
      "source": [
        "**Tugas Praktek 3.3**\n",
        "\n",
        "1.Printing Data type menggunakan Variable.\n",
        "Ketikan kode di bawah ini pada Code Editor.\n",
        "``` javascript\n",
        "var_string=\"Mari Belajar Python\"\n",
        "var_int=10\n",
        "var_float=3.14\n",
        "var_list=[1,2,3,4]\n",
        "var_tuple=(\"satu\",\"dua\",\"tiga\")\n",
        "var_dict={\"nama\":\"Ali\", 'umur':20}\n",
        "\n",
        "\n",
        "print(var_string)\n",
        "print(var_int)\n",
        "print(var_float)\n",
        "print(var_list)\n",
        "print(var_tuple)\n",
        "print(var_dict)\n",
        "```\n"
      ]
    },
    {
      "cell_type": "code",
      "metadata": {
        "id": "1tGciAb2-RiJ",
        "outputId": "7bc69f77-b64f-43cf-9fa1-ece528d653bc",
        "colab": {
          "base_uri": "https://localhost:8080/"
        }
      },
      "source": [
        "#Jawab Tugas Praktek 3.3 Nomor 1\n",
        "kalimat = \"mari belajar python\"\n",
        "angka = 1000\n",
        "pecahan = 3.14\n",
        "kumpulanAngka = [1,2,3,4,5]\n",
        "tulisanAngka = (\"satu\",\"dua\",\"tiga\",\"empat\",\"lima\")\n",
        "dictionary = {\"nama\" : \"khoirudin\", 'umur' : 24}\n",
        "\n",
        "print(kalimat)\n",
        "print(angka)\n",
        "print(pecahan)\n",
        "print(kumpulanAngka)\n",
        "print(tulisanAngka)\n",
        "print(dictionary)"
      ],
      "execution_count": 2,
      "outputs": [
        {
          "output_type": "stream",
          "text": [
            "mari belajar python\n",
            "1000\n",
            "3.14\n",
            "[1, 2, 3, 4, 5]\n",
            "('satu', 'dua', 'tiga', 'empat', 'lima')\n",
            "{'nama': 'khoirudin', 'umur': 24}\n"
          ],
          "name": "stdout"
        }
      ]
    },
    {
      "cell_type": "markdown",
      "metadata": {
        "id": "MhwlX9P3-SCL"
      },
      "source": [
        "2. Tambahkan code di bawah ini untuk mengetahui type data dari suatu value di variabel.\n",
        "``` javascript\n",
        "print(type(var_string))\n",
        "print(type(var_int))\n",
        "print(type(var_float))\n",
        "print(type(var_list))\n",
        "print(type(var_tuple))\n",
        "print(type(var_dict))\n",
        "```"
      ]
    },
    {
      "cell_type": "code",
      "metadata": {
        "id": "hPGODjeh-aEX",
        "outputId": "ba092118-9635-4764-c94c-4f64cb28ac19",
        "colab": {
          "base_uri": "https://localhost:8080/"
        }
      },
      "source": [
        "#Jawab Tugas Praktek 3.3 Nomor 2\n",
        "print(type(kalimat))\n",
        "print(type(angka))\n",
        "print(type(pecahan))\n",
        "print(type(kumpulanAngka))\n",
        "print(type(tulisanAngka))\n",
        "print(type(dictionary))"
      ],
      "execution_count": 3,
      "outputs": [
        {
          "output_type": "stream",
          "text": [
            "<class 'str'>\n",
            "<class 'int'>\n",
            "<class 'float'>\n",
            "<class 'list'>\n",
            "<class 'tuple'>\n",
            "<class 'dict'>\n"
          ],
          "name": "stdout"
        }
      ]
    }
  ]
}