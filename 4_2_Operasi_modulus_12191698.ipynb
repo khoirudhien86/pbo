{
  "nbformat": 4,
  "nbformat_minor": 0,
  "metadata": {
    "colab": {
      "name": "4_2_Operasi_modulus_12191698.ipynb",
      "provenance": [],
      "collapsed_sections": [],
      "include_colab_link": true
    },
    "kernelspec": {
      "name": "python3",
      "display_name": "Python 3"
    }
  },
  "cells": [
    {
      "cell_type": "markdown",
      "metadata": {
        "id": "view-in-github",
        "colab_type": "text"
      },
      "source": [
        "<a href=\"https://colab.research.google.com/github/khoirudhien86/pbo/blob/main/4_2_Operasi_modulus_12191698.ipynb\" target=\"_parent\"><img src=\"https://colab.research.google.com/assets/colab-badge.svg\" alt=\"Open In Colab\"/></a>"
      ]
    },
    {
      "cell_type": "code",
      "metadata": {
        "id": "vcWWM9-jNgXb"
      },
      "source": [
        ""
      ],
      "execution_count": null,
      "outputs": []
    },
    {
      "cell_type": "markdown",
      "metadata": {
        "id": "tPBAeoa4NxzC"
      },
      "source": [
        "**Operasi modulus**\n",
        "\n",
        "Modulus memang jarang dipakai namun, dibeberapa kasus modulus sangat berguna untuk mempercepat proses perhitungan. Modulus sendiri merupakan fungsi yang akan menghitung sisa dari hasil pembagian. Untuk lebih jelasnya silahkan lakukan praktek di bawah ini :\n",
        "``` javascript\n",
        "c=10\n",
        "d=3\n",
        "\n",
        "modulus=c%d\n",
        "print(\"Hasil modulus\",modulus)\n",
        "```\n",
        "Ketikan code cell di bawah ini pada editor:"
      ]
    },
    {
      "cell_type": "code",
      "metadata": {
        "id": "fhfc8ABhOxQa",
        "outputId": "e8d0dd4a-ca5b-4a61-c906-7ef6f81df502",
        "colab": {
          "base_uri": "https://localhost:8080/"
        }
      },
      "source": [
        "##Jawaban Tugas Praktek 3.2\n",
        "c = 10\n",
        "d = 3\n",
        "\n",
        "modulus = c%d\n",
        "print(\"hasil modulus\", modulus)"
      ],
      "execution_count": 1,
      "outputs": [
        {
          "output_type": "stream",
          "text": [
            "hasil modulus 1\n"
          ],
          "name": "stdout"
        }
      ]
    },
    {
      "cell_type": "markdown",
      "metadata": {
        "id": "dvFFTUG2O_Cb"
      },
      "source": [
        "Kenapa modulus bisa seperti itu? (berikan jawaban anda pada cell teks diabawah ini)"
      ]
    },
    {
      "cell_type": "code",
      "metadata": {
        "id": "4_vp4LVtPqE4"
      },
      "source": [
        ""
      ],
      "execution_count": null,
      "outputs": []
    },
    {
      "cell_type": "markdown",
      "metadata": {
        "id": "Fn8nPF6TPEGa"
      },
      "source": [
        "##Jawaban Keterangan \n",
        "hasil modulus dari 10%3 adalah 1 , karena kalau 10 dibagi 3 sisanya adalah 1."
      ]
    }
  ]
}