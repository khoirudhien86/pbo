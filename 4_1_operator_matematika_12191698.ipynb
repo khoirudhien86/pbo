{
  "nbformat": 4,
  "nbformat_minor": 0,
  "metadata": {
    "colab": {
      "name": "4_1_operator_matematika_12191698.ipynb",
      "provenance": [],
      "collapsed_sections": [],
      "include_colab_link": true
    },
    "kernelspec": {
      "name": "python3",
      "display_name": "Python 3"
    },
    "accelerator": "GPU"
  },
  "cells": [
    {
      "cell_type": "markdown",
      "metadata": {
        "id": "view-in-github",
        "colab_type": "text"
      },
      "source": [
        "<a href=\"https://colab.research.google.com/github/khoirudhien86/pbo/blob/main/4_1_operator_matematika_12191698.ipynb\" target=\"_parent\"><img src=\"https://colab.research.google.com/assets/colab-badge.svg\" alt=\"Open In Colab\"/></a>"
      ]
    },
    {
      "cell_type": "code",
      "metadata": {
        "id": "f7WajviOKztl"
      },
      "source": [
        ""
      ],
      "execution_count": null,
      "outputs": []
    },
    {
      "cell_type": "markdown",
      "metadata": {
        "id": "Zf9uJW37LCfb"
      },
      "source": [
        "**Praktek Operasi Matematika**\n",
        "\n",
        "Pada praktek ini kita akan mencoba semua operator matematika.\n",
        "\n",
        "Praktek pada sesi kali ini akan menekankan bagaimana menggunakan operator langsung diimplementasikan dengan variable.\n",
        "\n",
        "Implementasikan code di bawah ini pada kode cell editor:\n",
        "``` javascript\n",
        "a=10\n",
        "b=5\n",
        "selisih = a-b\n",
        "jumlah = a+b\n",
        "kali = a*b\n",
        "bagi = a/b\n",
        "print(\"Hasil penjumlahan dan b adalah\", jumlah)\n",
        "print(\"Selisih a dan b adalah :\",selisih)\n",
        "print(\"Hasil perkalian a dan b adalah :\",kali)\n",
        "print(\"Hasil  pembagian a dan b adalah:\",bagi)\n",
        "\n",
        "``` \n",
        " \n",
        "\n",
        "Ketikan code cell di bawah ini pada editor:"
      ]
    },
    {
      "cell_type": "code",
      "metadata": {
        "id": "hYGfkiKOMo_x",
        "outputId": "6138b1bf-b149-4429-f1e3-cd43450be7c8",
        "colab": {
          "base_uri": "https://localhost:8080/"
        }
      },
      "source": [
        "##Jawaban Tugas Praktek 3.1\n",
        "a = 10\n",
        "b = 5\n",
        "selisih = a-b\n",
        "jumlah = a+b\n",
        "kali = a*b\n",
        "bagi = a/b\n",
        "\n",
        "print (\"hasil penjumlahan a dan b adalah : \", jumlah)\n",
        "print (\"selisih a dan b adalah : \", selisih)\n",
        "print (\"hasil perkalian a dan b adalah : \", kali)\n",
        "print (\"hasil pembagian a dan b adalah : \", bagi)"
      ],
      "execution_count": 1,
      "outputs": [
        {
          "output_type": "stream",
          "text": [
            "hasil penjumlahan a dan b adalah :  15\n",
            "selisih a dan b adalah :  5\n",
            "hasil perkalian a dan b adalah :  50\n",
            "hasil pembagian a dan b adalah :  2.0\n"
          ],
          "name": "stdout"
        }
      ]
    }
  ]
}