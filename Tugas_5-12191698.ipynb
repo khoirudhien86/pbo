{
 "cells": [
  {
   "cell_type": "code",
   "execution_count": null,
   "metadata": {
    "id": "rHy5qNEzCw4G"
   },
   "outputs": [],
   "source": [
    "  "
   ]
  },
  {
   "cell_type": "markdown",
   "metadata": {
    "id": "aCDGpWd-Cz2S"
   },
   "source": [
    "**Soal 1**\n",
    "\n",
    "Rancanglah sebuah class **Kendaraan** yang tidak memiliki atribut dan method sama sekali. Implementasikan dalam kode python kemudian lakukan eksekusi kemudian amati dan berikan penjelasan "
   ]
  },
  {
   "cell_type": "code",
   "execution_count": 3,
   "metadata": {
    "id": "Ge48DNVFDqjh"
   },
   "outputs": [],
   "source": [
    "#Soal 1\n",
    "class Kendaraan:\n",
    "    pass"
   ]
  },
  {
   "cell_type": "markdown",
   "metadata": {
    "id": "6sTLg-NHD0vm"
   },
   "source": [
    "*Penjelasan Soal 1 :*\n",
    "\n",
    "- Kendaraan adalah nama class nya, dan untuk pass nya berfungsi untuk mencegah error pada saat di run ketika class tersebut tidak memiliki atribut dan method sama sekali."
   ]
  },
  {
   "cell_type": "markdown",
   "metadata": {
    "id": "WZfosTyeD7-k"
   },
   "source": [
    "**Soal 2**\n",
    "\n",
    "Rancanglah sebuah class Kendaraan yang memiliki atribut max_speed, jumlah_roda dan bahan_bakar. Buat class tersebut sekaligus implementasinya"
   ]
  },
  {
   "cell_type": "code",
   "execution_count": 5,
   "metadata": {
    "id": "LGn4ehONEuJn"
   },
   "outputs": [
    {
     "name": "stdout",
     "output_type": "stream",
     "text": [
      "Mobil itu mempunyai 4 roda, yg maksimal speed nya 200 km/jam, yg berbahan bakar bensin\n"
     ]
    }
   ],
   "source": [
    "#Kode Soal 2\n",
    "class Kendaraan:\n",
    "    def __init__(self,max_speed,jumlah_roda,bahan_bakar):\n",
    "        self.max_speed = max_speed\n",
    "        self.jumlah_roda = jumlah_roda\n",
    "        self.bahan_bakar = bahan_bakar\n",
    "    \n",
    "    def Keterangan(self):\n",
    "        print(\"Mobil itu mempunyai {} roda, yg maksimal speed nya {} km/jam, yg berbahan bakar {}\".format(self.jumlah_roda,self.max_speed,self.bahan_bakar))\n",
    "        \n",
    "mobil = Kendaraan(200,4,\"bensin\")\n",
    "mobil.Keterangan()"
   ]
  },
  {
   "cell_type": "markdown",
   "metadata": {
    "id": "-vjXUjdqFCTi"
   },
   "source": [
    "**Soal 3**\n",
    "\n",
    "Rancanglah sebuah **class Bis** yang merupakan hasil penurunan dari **Class Kendaraan** pada soal 2, Tambahkan kompunen yang dibutuhkan di dari class Bus tersebut selain dari kompunen induk.  Buatlah class tersebut sekaligus implementasinya"
   ]
  },
  {
   "cell_type": "code",
   "execution_count": 25,
   "metadata": {
    "id": "O2yHVHLSFkaZ",
    "scrolled": true
   },
   "outputs": [
    {
     "name": "stdout",
     "output_type": "stream",
     "text": [
      "Bus berwarna hijau, yg mempunyai total kursi penumpang sebanyak 40,dan mempunyai 4 roda, yg maksimal speed nya 250 km/jam, yg berbahan bakar solar, dan sopirnya bernama joko.\n"
     ]
    }
   ],
   "source": [
    "#Kode Soal 3\n",
    "class Bis(Kendaraan):\n",
    "    def __init__(self,max_speed,jumlah_roda,bahan_bakar):\n",
    "        super().__init__(max_speed,jumlah_roda,bahan_bakar)\n",
    "        self.warna = \"hijau\"\n",
    "        self.total_kursi = 40\n",
    "        self.nama_sopir = \"joko\"\n",
    "        \n",
    "    def Kalimat(self):\n",
    "        print(\"Bus berwarna {}, yg mempunyai total kursi penumpang sebanyak {},dan mempunyai {} roda, yg maksimal speed nya {} km/jam, yg berbahan bakar {}, dan sopirnya bernama {}.\".format(self.warna,self.total_kursi,self.jumlah_roda,self.max_speed,self.bahan_bakar,self.nama_sopir))\n",
    "        \n",
    "bus = Bis(250,4,\"solar\")\n",
    "bus.Kalimat()"
   ]
  }
 ],
 "metadata": {
  "colab": {
   "collapsed_sections": [],
   "name": "Bag2_Tugas_1.ipynb",
   "provenance": []
  },
  "kernelspec": {
   "display_name": "Python 3",
   "language": "python",
   "name": "python3"
  },
  "language_info": {
   "codemirror_mode": {
    "name": "ipython",
    "version": 3
   },
   "file_extension": ".py",
   "mimetype": "text/x-python",
   "name": "python",
   "nbconvert_exporter": "python",
   "pygments_lexer": "ipython3",
   "version": "3.7.4"
  }
 },
 "nbformat": 4,
 "nbformat_minor": 1
}
