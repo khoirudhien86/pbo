{
  "nbformat": 4,
  "nbformat_minor": 0,
  "metadata": {
    "colab": {
      "name": "2_3_Comment_Pada_Python_12191698.ipynb",
      "provenance": [],
      "collapsed_sections": [],
      "include_colab_link": true
    },
    "kernelspec": {
      "name": "python3",
      "display_name": "Python 3"
    }
  },
  "cells": [
    {
      "cell_type": "markdown",
      "metadata": {
        "id": "view-in-github",
        "colab_type": "text"
      },
      "source": [
        "<a href=\"https://colab.research.google.com/github/khoirudhien86/pbo/blob/main/2_3_Comment_Pada_Python_12191698.ipynb\" target=\"_parent\"><img src=\"https://colab.research.google.com/assets/colab-badge.svg\" alt=\"Open In Colab\"/></a>"
      ]
    },
    {
      "cell_type": "code",
      "metadata": {
        "id": "QChNmnXf_-pE"
      },
      "source": [
        ""
      ],
      "execution_count": null,
      "outputs": []
    },
    {
      "cell_type": "markdown",
      "metadata": {
        "id": "CQqHfxdyArzJ"
      },
      "source": [
        "##Melakukan Comment Pada Python\n",
        "Pada suatu kegiatan membuat code, penting sekali bagi para penulis codenya untuk memberikan sebuah dokumentasi pada penulisan codenya. Mengapa hal itu sangat penting? Sederhana, jika codenya sudah lebih dari ribuan baris dan ada beberapa bagian yang perlu diperbaiki karena suatu perubahan, para penulis code cukup melihat dokumentasinya dan tidak perlu membaca dan memahami seluruh isi code dari awal. Nah, salah satu metode yang biasa digunakan adalah menggunakan comment. Sama dengan Bahasa Python juga menggunakan tanda “#” untuk melakukan comment pada script.\n",
        "\n",
        "Cobalah ketikkan sebuah kalimat seperti di bawah ini beserta commentnya. Kemudian lakukan eksekusi dengan menekan tombol **[Run]**"
      ]
    },
    {
      "cell_type": "code",
      "metadata": {
        "id": "oBXKvs3qA2Xb",
        "outputId": "9bc553db-cb75-44b4-9dd0-b785d9e6404f",
        "colab": {
          "base_uri": "https://localhost:8080/"
        }
      },
      "source": [
        "print(\"Ini adalah sebuah baris kode\")#ini adalah contoh comment dan tidak akan tercetak"
      ],
      "execution_count": 1,
      "outputs": [
        {
          "output_type": "stream",
          "text": [
            "Ini adalah sebuah baris kode\n"
          ],
          "name": "stdout"
        }
      ]
    },
    {
      "cell_type": "markdown",
      "metadata": {
        "id": "8yPh4FQWA_DU"
      },
      "source": [
        "Perlu diketahui, comment tidak akan pernah tampil pada hasil melalui console atau GUI. Fungsi comment bisa dikatakan sebagai penanda. Kenapa bab ini diberikan diawal? Harapannya dengan pengetahuan ini setiap kali Anda membuat baris code, bisa diberikan dokumentasi. Dokumentasi sangat penting untuk pengembangan suatu code apabila memang nanti diperlukan.\n",
        "\n",
        "Dokumentasi kode juga berlaku untuk variable. Sangat penting mengetahui bahwa setiap variable berfungsi sebagai apa dan isinya apa. Maka dari itu jangan lupa untuk membuat dan memberi comment untuk setiap kode pada materi kita\n",
        "\n",
        " \n",
        "\n",
        "**Tugas Praktek 3.2**\n",
        "\n",
        "1. Berikan keterangan untuk setiap baris program dengan perintah comment"
      ]
    },
    {
      "cell_type": "code",
      "metadata": {
        "id": "Yy5gqIzRBApb",
        "outputId": "521926dd-ea3f-4181-c6fa-76d614e5b3cf",
        "colab": {
          "base_uri": "https://localhost:8080/"
        }
      },
      "source": [
        "#Jawab Tugas Praktek 3.2 Nomor 1\n",
        "\n",
        "print(10*2+5) #fungsi matematika : 10 dikali 2 ditambah 5 = 25\n",
        "print(\"20\") #fungsi mencetak kalimat : angka 20"
      ],
      "execution_count": 4,
      "outputs": [
        {
          "output_type": "stream",
          "text": [
            "25\n",
            "20\n"
          ],
          "name": "stdout"
        }
      ]
    },
    {
      "cell_type": "markdown",
      "metadata": {
        "id": "PQsFFoqjBJm0"
      },
      "source": [
        "2. Cetak Nama dan NIM anda dilayar berikan comment untuk masing - masing perintah"
      ]
    },
    {
      "cell_type": "code",
      "metadata": {
        "id": "SiToLqkJw3p7",
        "outputId": "512ea12e-f5ba-468f-c176-2be587b4a653",
        "colab": {
          "base_uri": "https://localhost:8080/"
        }
      },
      "source": [
        "#Jawab Tugas Praktek 3.2 Nomor 2\n",
        "\n",
        "print(\"nama : mohammad khoirudin\") #nama saya adalah m.khoirudin\n",
        "print(\"NIM : 12191698\") #nim saya adalah 12191698"
      ],
      "execution_count": 3,
      "outputs": [
        {
          "output_type": "stream",
          "text": [
            "nama : mohammad khoirudin\n",
            "NIM : 12191698\n"
          ],
          "name": "stdout"
        }
      ]
    }
  ]
}