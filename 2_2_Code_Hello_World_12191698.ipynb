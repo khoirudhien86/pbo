{
  "nbformat": 4,
  "nbformat_minor": 0,
  "metadata": {
    "colab": {
      "name": "2_2_Code_Hello_World_12191698.ipynb",
      "provenance": [],
      "collapsed_sections": [],
      "include_colab_link": true
    },
    "kernelspec": {
      "name": "python3",
      "display_name": "Python 3"
    }
  },
  "cells": [
    {
      "cell_type": "markdown",
      "metadata": {
        "id": "view-in-github",
        "colab_type": "text"
      },
      "source": [
        "<a href=\"https://colab.research.google.com/github/khoirudhien86/pbo/blob/main/2_2_Code_Hello_World_12191698.ipynb\" target=\"_parent\"><img src=\"https://colab.research.google.com/assets/colab-badge.svg\" alt=\"Open In Colab\"/></a>"
      ]
    },
    {
      "cell_type": "code",
      "metadata": {
        "id": "QChNmnXf_-pE"
      },
      "source": [
        ""
      ],
      "execution_count": null,
      "outputs": []
    },
    {
      "cell_type": "markdown",
      "metadata": {
        "id": "CQqHfxdyArzJ"
      },
      "source": [
        "##Code Hello World\n",
        "Struktur code pada Python relatif sangat sederhana dan tidak terlalu rumit seperti pada Java ataupun C. Selain karena memang mudah dibaca, python juga termasuk pada high level programming language. Sebagai contoh, cobalah ketik coding pada Code Editor dengan perintah berikut untuk mengeluarkan kata-kata yang diperintahkan. Ekskusilah perintah dari kode dibawah ini."
      ]
    },
    {
      "cell_type": "code",
      "metadata": {
        "id": "oBXKvs3qA2Xb",
        "outputId": "d1428836-260f-4ebd-e692-4b1d9f87c5eb",
        "colab": {
          "base_uri": "https://localhost:8080/"
        }
      },
      "source": [
        "print (\"Hello World\")"
      ],
      "execution_count": 5,
      "outputs": [
        {
          "output_type": "stream",
          "text": [
            "Hello World\n"
          ],
          "name": "stdout"
        }
      ]
    },
    {
      "cell_type": "markdown",
      "metadata": {
        "id": "8yPh4FQWA_DU"
      },
      "source": [
        "Coba lanjutkan code tersebut pada baris selanjutnya dengan menggunakan kode ini :"
      ]
    },
    {
      "cell_type": "code",
      "metadata": {
        "id": "Yy5gqIzRBApb",
        "outputId": "a950679d-06a3-4755-e7f5-08c6d5e92180",
        "colab": {
          "base_uri": "https://localhost:8080/"
        }
      },
      "source": [
        "print (\"Hello World\")\n",
        "print(5+1)"
      ],
      "execution_count": 1,
      "outputs": [
        {
          "output_type": "stream",
          "text": [
            "Hello World\n",
            "6\n"
          ],
          "name": "stdout"
        }
      ]
    },
    {
      "cell_type": "markdown",
      "metadata": {
        "id": "PQsFFoqjBJm0"
      },
      "source": [
        "***Note : setiap print akan mencetak baris baru.***\n",
        "\n",
        "Memang terlihat sangat sederhana jika hanya untuk kasus sederhana yang kita pelajari pada section kali ini. Namun, python tidak sesederhana itu. Biasanya kita juga menggunakan import library khusus jika sudah menyangkut masalah yang lebih kompleks. Materi berikutnya mungkin akan menjelaskan lebih lanjut.\n",
        "\n",
        " \n",
        "\n",
        "**Tugas Praktek 3.1**  \n",
        "1. Tampilkan hasil perhitungan (10*2+5) pada baris pertama."
      ]
    },
    {
      "cell_type": "code",
      "metadata": {
        "id": "UVE42BSRq-Ac",
        "outputId": "c6f896df-4a19-40af-c3ad-f15b17e6e4d7",
        "colab": {
          "base_uri": "https://localhost:8080/"
        }
      },
      "source": [
        "# Jawab Tugas Praktek 3.1 Nomor 1\n",
        "print(10*2+5)"
      ],
      "execution_count": 2,
      "outputs": [
        {
          "output_type": "stream",
          "text": [
            "25\n"
          ],
          "name": "stdout"
        }
      ]
    },
    {
      "cell_type": "markdown",
      "metadata": {
        "id": "KmVhSyrQq_S6"
      },
      "source": [
        "2. tampilkan teks \"2023 Aku kaya mulia\" pada baris kedua."
      ]
    },
    {
      "cell_type": "code",
      "metadata": {
        "id": "Wko-4QrwsBgj",
        "outputId": "c57d2120-9455-460f-fda2-214b39731c9c",
        "colab": {
          "base_uri": "https://localhost:8080/"
        }
      },
      "source": [
        "# Jawab Tugas Praktek 3.1 Nomor 2\n",
        "print(\"2023 Aku kaya mulia\")"
      ],
      "execution_count": 3,
      "outputs": [
        {
          "output_type": "stream",
          "text": [
            "2023 Aku kaya mulia\n"
          ],
          "name": "stdout"
        }
      ]
    },
    {
      "cell_type": "markdown",
      "metadata": {
        "id": "z5MM1FEBrswd"
      },
      "source": [
        "3. Tampilkan teks Nama anda"
      ]
    },
    {
      "cell_type": "code",
      "metadata": {
        "id": "8dylS54Rq_1D",
        "outputId": "c1c50e27-43f0-4f17-9d95-3743f7379362",
        "colab": {
          "base_uri": "https://localhost:8080/"
        }
      },
      "source": [
        "# Jawab Tugas Praktek 3.1 Nomor 3\n",
        "print(\"nama saya : mohammad khoirudin\")"
      ],
      "execution_count": 4,
      "outputs": [
        {
          "output_type": "stream",
          "text": [
            "nama saya : mohammad khoirudin\n"
          ],
          "name": "stdout"
        }
      ]
    }
  ]
}