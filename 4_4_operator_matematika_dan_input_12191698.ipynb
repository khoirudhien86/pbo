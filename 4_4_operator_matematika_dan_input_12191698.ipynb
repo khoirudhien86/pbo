{
  "nbformat": 4,
  "nbformat_minor": 0,
  "metadata": {
    "colab": {
      "name": "4_4_operator_matematika_dan_input_12191698.ipynb",
      "provenance": [],
      "collapsed_sections": [],
      "include_colab_link": true
    },
    "kernelspec": {
      "name": "python3",
      "display_name": "Python 3"
    },
    "accelerator": "GPU"
  },
  "cells": [
    {
      "cell_type": "markdown",
      "metadata": {
        "id": "view-in-github",
        "colab_type": "text"
      },
      "source": [
        "<a href=\"https://colab.research.google.com/github/khoirudhien86/pbo/blob/main/4_4_operator_matematika_dan_input_12191698.ipynb\" target=\"_parent\"><img src=\"https://colab.research.google.com/assets/colab-badge.svg\" alt=\"Open In Colab\"/></a>"
      ]
    },
    {
      "cell_type": "code",
      "metadata": {
        "id": "f7WajviOKztl"
      },
      "source": [
        ""
      ],
      "execution_count": null,
      "outputs": []
    },
    {
      "cell_type": "markdown",
      "metadata": {
        "id": "Zf9uJW37LCfb"
      },
      "source": [
        "**Praktek Operasi Input Dan Operator Matematika**\n",
        "\n",
        "Bukalah kembali praktek operator matematika.\n",
        "\n",
        "Ubahlah agar variable **a** dan **b** menggunakan input dari keyboard\n",
        "\n",
        "\n",
        "Implementasikan code di bawah ini pada kode cell editor:\n",
        "``` javascript\n",
        "selisih = a-b\n",
        "jumlah = a+b\n",
        "kali = a*b\n",
        "bagi = a/b\n",
        "print(\"Hasil penjumlahan dan b adalah\", jumlah)\n",
        "print(\"Selisih a dan b adalah :\",selisih)\n",
        "print(\"Hasil perkalian a dan b adalah :\",kali)\n",
        "print(\"Hasil  pembagian a dan b adalah:\",bagi)\n",
        "\n",
        "``` \n",
        " \n",
        "\n",
        "Ketikan pada code cell di bawah ini pada editor:"
      ]
    },
    {
      "cell_type": "code",
      "metadata": {
        "id": "hYGfkiKOMo_x",
        "outputId": "f9df9dfa-6cfc-44c7-e891-ed254fcf0ae3",
        "colab": {
          "base_uri": "https://localhost:8080/"
        }
      },
      "source": [
        "##Jawaban Tugas Praktek 3.4\n",
        "a = int(input(\"masukkan angka a = \"))\n",
        "b = int(input(\"masukkan angka b = \"))\n",
        "\n",
        "selisih = a-b\n",
        "jumlah = a+b\n",
        "kali = a*b\n",
        "bagi = a/b\n",
        "\n",
        "print()\n",
        "print(\"hasil penjumlahan a dan b adalah : \", jumlah)\n",
        "print(\"selisih a dan b adalah : \", selisih)\n",
        "print(\"hasil perkalian a dan b adalah : \", kali)\n",
        "print(\"hasil pembagian a dan b adalah : \", bagi)\n"
      ],
      "execution_count": 3,
      "outputs": [
        {
          "output_type": "stream",
          "text": [
            "masukkan angka a = 1000\n",
            "masukkan angka b = 50\n",
            "\n",
            "hasil penjumlahan a dan b adalah :  1050\n",
            "selisih a dan b adalah :  950\n",
            "hasil perkalian a dan b adalah :  50000\n",
            "hasil pembagian a dan b adalah :  20.0\n"
          ],
          "name": "stdout"
        }
      ]
    }
  ]
}