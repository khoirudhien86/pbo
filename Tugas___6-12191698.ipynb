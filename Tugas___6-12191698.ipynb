{
 "cells": [
  {
   "cell_type": "code",
   "execution_count": null,
   "metadata": {
    "id": "rHy5qNEzCw4G"
   },
   "outputs": [],
   "source": []
  },
  {
   "cell_type": "markdown",
   "metadata": {
    "id": "01TN_fjwL-dN"
   },
   "source": [
    "Buatlah aplikasi Data Mahasiswa sebagai berikut:\n",
    "\n",
    "INPUT DATA MAHASISWA\n",
    "\n",
    "NIM    :\n",
    "\n",
    "NAMA   :\n",
    "\n",
    "ALAMAT :\n",
    "\n",
    "JURUSAN :\n",
    "\n",
    "KETERANGAN JURUSAN [1] SISTEM INFORMASI [2] TEKNIK INFORMATIKA\n",
    "\n",
    "Apakah Anda ingin memasukkan data lagi ? (Y) Ya ; (T) Tidak : \n",
    "\n",
    "\n"
   ]
  },
  {
   "cell_type": "markdown",
   "metadata": {
    "id": "NlRdQu4hNPdv"
   },
   "source": [
    "**Requirement I**\n",
    "\n",
    "Perulangan input akan terjadi jika user memasukkan “Y”, maka selanjutnya akan memasukkan data mahasiswa lagi dan jika user memasukkan data “T”, maka aplikasi berhenti, kemudian menampilkan data yang telah dimasukan.\n"
   ]
  },
  {
   "cell_type": "code",
   "execution_count": 3,
   "metadata": {
    "id": "Ge48DNVFDqjh"
   },
   "outputs": [
    {
     "name": "stdout",
     "output_type": "stream",
     "text": [
      "=====================================================\n",
      "SILAHKAN ISI FORM DIBAWAH INI\n",
      "\n",
      "NIM : 12191698\n",
      "NAMA : aji\n",
      "ALAMAT : jl.tukangan\n",
      "JURUSAN : [1]SISTEM INFORMASI [2]TEKNIK INFORMATIKA = 1\n",
      "-----------------------------------------------------\n",
      "INPUT DATA MAHASISWA\n",
      "\n",
      "NIM :  12191698\n",
      "NAMA :  aji\n",
      "ALAMAT :  jl.tukangan\n",
      "JURUSAN : SISTEM INFORMASI\n",
      "\n",
      "Mau mengisi data mahasiswa kembali ? [y]ya / [t]tidak ? = y\n",
      "=====================================================\n",
      "SILAHKAN ISI FORM DIBAWAH INI\n",
      "\n",
      "NIM : 12191699\n",
      "NAMA : aji\n",
      "ALAMAT : jl.danurejan\n",
      "JURUSAN : [1]SISTEM INFORMASI [2]TEKNIK INFORMATIKA = 2\n",
      "-----------------------------------------------------\n",
      "INPUT DATA MAHASISWA\n",
      "\n",
      "NIM :  12191699\n",
      "NAMA :  aji\n",
      "ALAMAT :  jl.danurejan\n",
      "JURUSAN : TEKNIK INFORMATIKA\n",
      "\n",
      "Mau mengisi data mahasiswa kembali ? [y]ya / [t]tidak ? = t\n",
      "=====================================================\n"
     ]
    }
   ],
   "source": [
    "#Jawaban Tugas 6\n",
    "class InputMahasiswa:\n",
    "    def __init__(self):\n",
    "        print(\"SILAHKAN ISI FORM DIBAWAH INI\")\n",
    "        print()\n",
    "        self.nim = int(input(\"NIM : \"))\n",
    "        self.nama = input(\"NAMA : \")\n",
    "        self.alamat = input(\"ALAMAT : \")\n",
    "        self.jurusan = int(input(\"JURUSAN : [1]SISTEM INFORMASI [2]TEKNIK INFORMATIKA = \" ))\n",
    "        print(\"-----------------------------------------------------\")\n",
    "        \n",
    "    def Cetak(self):\n",
    "        print(\"INPUT DATA MAHASISWA\")\n",
    "        print()\n",
    "        print(\"NIM : \",self.nim) \n",
    "        print(\"NAMA : \",self.nama)\n",
    "        print(\"ALAMAT : \",self.alamat)\n",
    "        JURUSAN = self.jurusan\n",
    "        if(JURUSAN == 1):\n",
    "            print(\"JURUSAN : SISTEM INFORMASI\")\n",
    "        else:\n",
    "            print(\"JURUSAN : TEKNIK INFORMATIKA\")\n",
    "        print()\n",
    "        \n",
    "jawab = \"y\"\n",
    "while(jawab == \"y\" or \"Y\"):\n",
    "    print(\"=====================================================\")\n",
    "    coba = InputMahasiswa()\n",
    "    coba.Cetak()\n",
    "    jawab = input(\"Mau mengisi data mahasiswa kembali ? [y]ya / [t]tidak ? = \")\n",
    "    if(jawab == \"t\"):\n",
    "        print(\"=====================================================\")\n",
    "        break"
   ]
  },
  {
   "cell_type": "code",
   "execution_count": null,
   "metadata": {},
   "outputs": [],
   "source": []
  },
  {
   "cell_type": "code",
   "execution_count": null,
   "metadata": {},
   "outputs": [],
   "source": []
  },
  {
   "cell_type": "code",
   "execution_count": null,
   "metadata": {},
   "outputs": [],
   "source": []
  }
 ],
 "metadata": {
  "colab": {
   "collapsed_sections": [],
   "name": "Tugas___6.ipynb",
   "provenance": []
  },
  "kernelspec": {
   "display_name": "Python 3",
   "language": "python",
   "name": "python3"
  },
  "language_info": {
   "codemirror_mode": {
    "name": "ipython",
    "version": 3
   },
   "file_extension": ".py",
   "mimetype": "text/x-python",
   "name": "python",
   "nbconvert_exporter": "python",
   "pygments_lexer": "ipython3",
   "version": "3.7.4"
  }
 },
 "nbformat": 4,
 "nbformat_minor": 1
}
