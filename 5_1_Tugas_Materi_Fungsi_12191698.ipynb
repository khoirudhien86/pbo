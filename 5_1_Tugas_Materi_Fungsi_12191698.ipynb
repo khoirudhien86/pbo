{
  "nbformat": 4,
  "nbformat_minor": 0,
  "metadata": {
    "accelerator": "GPU",
    "colab": {
      "name": "5_1_Tugas_Materi_Fungsi_12191698.ipynb",
      "provenance": [],
      "collapsed_sections": [],
      "include_colab_link": true
    },
    "kernelspec": {
      "display_name": "Python 3",
      "name": "python3"
    }
  },
  "cells": [
    {
      "cell_type": "markdown",
      "metadata": {
        "id": "view-in-github",
        "colab_type": "text"
      },
      "source": [
        "<a href=\"https://colab.research.google.com/github/khoirudhien86/pbo/blob/main/5_1_Tugas_Materi_Fungsi_12191698.ipynb\" target=\"_parent\"><img src=\"https://colab.research.google.com/assets/colab-badge.svg\" alt=\"Open In Colab\"/></a>"
      ]
    },
    {
      "cell_type": "code",
      "metadata": {
        "id": "22s8pI85u5_J"
      },
      "source": [
        ""
      ],
      "execution_count": null,
      "outputs": []
    },
    {
      "cell_type": "markdown",
      "metadata": {
        "id": "fPMZcyuxvINI"
      },
      "source": [
        "**Soal 5.1.1**\n",
        "\n",
        "Berikut ini adalah potongan kode implementasi fungsi *luas_limas_segi_empat()*\n",
        "``` javascript\n",
        "print(\"Luas : %d\" % luas_limas_segi_empat(Alas_limas, Tinggi_limas))​\n",
        "```\n",
        "Lengkapilah kode tersebut dengan merancang sebuah fungsi agar bisa diimplementasikan sesuai dengan statment potongan kode diatas.\n",
        "dengan mengetikan pada code cell di bawah ini pada editor."
      ]
    },
    {
      "cell_type": "code",
      "metadata": {
        "id": "WMeeaGjuxQfL",
        "outputId": "77cc693a-385c-4777-ac63-e46733dc3f49",
        "colab": {
          "base_uri": "https://localhost:8080/"
        }
      },
      "source": [
        "# Soal 4.1.1\n",
        "def luas_limas_segi_empat(sisi, tinggi):\n",
        "  luasAlas = sisi*sisi\n",
        "  luasSisiTegak = 4*(0.5*sisi*tinggi)\n",
        "\n",
        "  luasLimas = luasAlas + luasSisiTegak\n",
        "  return luasLimas\n",
        "\n",
        "print(\"luas limas : \", luas_limas_segi_empat(20, 25) ,\"cm²\")"
      ],
      "execution_count": 15,
      "outputs": [
        {
          "output_type": "stream",
          "text": [
            "luas limas :  1400.0 cm²\n"
          ],
          "name": "stdout"
        }
      ]
    }
  ]
}