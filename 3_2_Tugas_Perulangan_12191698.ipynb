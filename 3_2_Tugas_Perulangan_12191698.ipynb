{
  "nbformat": 4,
  "nbformat_minor": 0,
  "metadata": {
    "colab": {
      "name": "3_2_Tugas_Perulangan_12191698.ipynb",
      "provenance": [],
      "collapsed_sections": [],
      "include_colab_link": true
    },
    "kernelspec": {
      "name": "python3",
      "display_name": "Python 3"
    }
  },
  "cells": [
    {
      "cell_type": "markdown",
      "metadata": {
        "id": "view-in-github",
        "colab_type": "text"
      },
      "source": [
        "<a href=\"https://colab.research.google.com/github/khoirudhien86/pbo/blob/main/3_2_Tugas_Perulangan_12191698.ipynb\" target=\"_parent\"><img src=\"https://colab.research.google.com/assets/colab-badge.svg\" alt=\"Open In Colab\"/></a>"
      ]
    },
    {
      "cell_type": "code",
      "metadata": {
        "id": "fkV8YRAQlm-C"
      },
      "source": [
        ""
      ],
      "execution_count": null,
      "outputs": []
    },
    {
      "cell_type": "markdown",
      "metadata": {
        "id": "lnkJ-zBHl3jp"
      },
      "source": [
        "## Access Element\n",
        "Keunikan lain dari looping dengan python adalah selain bahasa yang mudah dimengerti dalam looping, kita juga bisa mengakses elemen yang terdapat pada sebuah list. Berikut ini contohnya :\n",
        "``` javascript\n",
        "#Tugas 3.2.1\n",
        "count=[1,2,3,4,5] #elemen list\n",
        "\n",
        "for number in count: #looping untuk menampilkan semua elemen pada count\n",
        "    print(\"Ini adalah element count : \", number) #menampilkan elemen list pada count\n",
        "```\n",
        "Implekementasikan kode diatas, ketikan pada code cell di bawah ini, berikan penjelasan terkait kode diatas"
      ]
    },
    {
      "cell_type": "code",
      "metadata": {
        "id": "xYjQqqNLm-dB",
        "outputId": "fcf75c9a-f62f-4aa3-e3dc-ae9e39b88c1d",
        "colab": {
          "base_uri": "https://localhost:8080/"
        }
      },
      "source": [
        "# Jawaban Tugas 3.2.1\n",
        "count = [1,2,3,4,5]\n",
        "\n",
        "for number in count:\n",
        "  print(\"ini adalah element count : \", number)\n"
      ],
      "execution_count": 1,
      "outputs": [
        {
          "output_type": "stream",
          "text": [
            "ini adalah element count :  1\n",
            "ini adalah element count :  2\n",
            "ini adalah element count :  3\n",
            "ini adalah element count :  4\n",
            "ini adalah element count :  5\n"
          ],
          "name": "stdout"
        }
      ]
    },
    {
      "cell_type": "markdown",
      "metadata": {
        "id": "figDWKAcnZRA"
      },
      "source": [
        "## Tugas Praktek 3.2.2\n",
        "1. Buatlah sebuah program yang bisa mengeluarkan angka 1 sampai 10.\n",
        "1. Buatlah sebuah program yang bisa mengeluarkan angka -20 sampai -50.\n",
        "3. Tampilan akan menunjukan \"Angka ganjil 1\" untuk angka ganjil dan \"Angka genap 2\" untuk angka genap. (Menggunakan looping for)\n",
        "\n",
        "**Note:** Kode dasar sudah disertakan, Anda cukup mengganti tanda # dengan nilai-nilai yang sesuai."
      ]
    },
    {
      "cell_type": "code",
      "metadata": {
        "id": "MElhruOTntzZ",
        "outputId": "d74e53d3-9031-4a98-ac60-40d1a6be7ed2",
        "colab": {
          "base_uri": "https://localhost:8080/"
        }
      },
      "source": [
        "#Jawaban Tugas 3.2.1.1\n",
        "for i in range(1,11):\n",
        "  print(\"angka\",i)"
      ],
      "execution_count": 3,
      "outputs": [
        {
          "output_type": "stream",
          "text": [
            "angka 1\n",
            "angka 2\n",
            "angka 3\n",
            "angka 4\n",
            "angka 5\n",
            "angka 6\n",
            "angka 7\n",
            "angka 8\n",
            "angka 9\n",
            "angka 10\n"
          ],
          "name": "stdout"
        }
      ]
    },
    {
      "cell_type": "code",
      "metadata": {
        "id": "NFtMjrQznuF2",
        "outputId": "d937b114-a212-4f1f-f772-9e3674f9b34c",
        "colab": {
          "base_uri": "https://localhost:8080/"
        }
      },
      "source": [
        "#Jawaban Tugas 3.2.1.2\n",
        "i = -20\n",
        "while(i>-51):\n",
        "  print(\"angka\",i)\n",
        "  i = i-1"
      ],
      "execution_count": 18,
      "outputs": [
        {
          "output_type": "stream",
          "text": [
            "angka -20\n",
            "angka -21\n",
            "angka -22\n",
            "angka -23\n",
            "angka -24\n",
            "angka -25\n",
            "angka -26\n",
            "angka -27\n",
            "angka -28\n",
            "angka -29\n",
            "angka -30\n",
            "angka -31\n",
            "angka -32\n",
            "angka -33\n",
            "angka -34\n",
            "angka -35\n",
            "angka -36\n",
            "angka -37\n",
            "angka -38\n",
            "angka -39\n",
            "angka -40\n",
            "angka -41\n",
            "angka -42\n",
            "angka -43\n",
            "angka -44\n",
            "angka -45\n",
            "angka -46\n",
            "angka -47\n",
            "angka -48\n",
            "angka -49\n",
            "angka -50\n"
          ],
          "name": "stdout"
        }
      ]
    },
    {
      "cell_type": "code",
      "metadata": {
        "id": "xpGigMPBpBy7",
        "outputId": "4f4c7873-3a48-4fad-cc40-d40ed98b681b",
        "colab": {
          "base_uri": "https://localhost:8080/"
        }
      },
      "source": [
        "#Jawaban Tugas 3.2.1.3\n",
        "for i in range(1,151,10):\n",
        "  print(\"[\",i,\"]\", end=\"  \")\n",
        "  print()\n",
        "for j in range(2,152,10):\n",
        "  print()\n",
        "  print(\"[\",j,\"]\", end=\"  \")\n",
        "\n"
      ],
      "execution_count": 71,
      "outputs": [
        {
          "output_type": "stream",
          "text": [
            "[ 1 ]  \n",
            "[ 11 ]  \n",
            "[ 21 ]  \n",
            "[ 31 ]  \n",
            "[ 41 ]  \n",
            "[ 51 ]  \n",
            "[ 61 ]  \n",
            "[ 71 ]  \n",
            "[ 81 ]  \n",
            "[ 91 ]  \n",
            "[ 101 ]  \n",
            "[ 111 ]  \n",
            "[ 121 ]  \n",
            "[ 131 ]  \n",
            "[ 141 ]  \n",
            "\n",
            "[ 2 ]  \n",
            "[ 12 ]  \n",
            "[ 22 ]  \n",
            "[ 32 ]  \n",
            "[ 42 ]  \n",
            "[ 52 ]  \n",
            "[ 62 ]  \n",
            "[ 72 ]  \n",
            "[ 82 ]  \n",
            "[ 92 ]  \n",
            "[ 102 ]  \n",
            "[ 112 ]  \n",
            "[ 122 ]  \n",
            "[ 132 ]  \n",
            "[ 142 ]  "
          ],
          "name": "stdout"
        }
      ]
    }
  ]
}