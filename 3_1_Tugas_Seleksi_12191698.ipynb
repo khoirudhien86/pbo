{
  "nbformat": 4,
  "nbformat_minor": 0,
  "metadata": {
    "colab": {
      "name": "3_1_Tugas_Seleksi_12191698.ipynb",
      "provenance": [],
      "collapsed_sections": [],
      "include_colab_link": true
    },
    "kernelspec": {
      "name": "python3",
      "display_name": "Python 3"
    },
    "accelerator": "GPU"
  },
  "cells": [
    {
      "cell_type": "markdown",
      "metadata": {
        "id": "view-in-github",
        "colab_type": "text"
      },
      "source": [
        "<a href=\"https://colab.research.google.com/github/khoirudhien86/pbo/blob/main/3_1_Tugas_Seleksi_12191698.ipynb\" target=\"_parent\"><img src=\"https://colab.research.google.com/assets/colab-badge.svg\" alt=\"Open In Colab\"/></a>"
      ]
    },
    {
      "cell_type": "code",
      "metadata": {
        "id": "r3Zdz7GxjwEB"
      },
      "source": [
        ""
      ],
      "execution_count": null,
      "outputs": []
    },
    {
      "cell_type": "markdown",
      "metadata": {
        "id": "Sh1Z3vgEka_O"
      },
      "source": [
        "##3.1. Tugas:\n",
        "Berikut ini adalah psudo code  untuk melakukan pengecekan bertingkat\n",
        "``` javascript\n",
        "i <= 2\n",
        "IF i < 7 THEN\n",
        "\tCETAK \"Nilai i kurang dari 7\"\n",
        "\tIF i < 3 THEN\n",
        "\t   CETAK \"Nilai i kurang dari 7 dan kurang dari 3\"\n",
        "\tELSE\n",
        "\t\tCETAK \"Nilai i kurang dari 7 tapi kurang dari 3\"\n",
        "\n",
        "```\n",
        "Implekementasikan kode diatas dalam kode python. Ketikan code cell di bawah ini pada editor:"
      ]
    },
    {
      "cell_type": "code",
      "metadata": {
        "id": "OV-NfRKHk0Vy",
        "outputId": "5574e812-3c85-454e-e1c3-5e970104ee59",
        "colab": {
          "base_uri": "https://localhost:8080/"
        }
      },
      "source": [
        "##Jawaban Tugas 3.1\n",
        "i = 2\n",
        "if i < 3:\n",
        "  print(\"nilai i kurang dari 7 dan kurang dari 3\")\n",
        "elif i < 7:\n",
        "  print(\"nilai i kurang dari 7\")\n",
        "else:\n",
        "  print(\"nilai i lebih dari 7\")"
      ],
      "execution_count": 13,
      "outputs": [
        {
          "output_type": "stream",
          "text": [
            "nilai i kurang dari 7 dan kurang dari 3\n"
          ],
          "name": "stdout"
        }
      ]
    }
  ]
}